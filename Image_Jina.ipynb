{
 "cells": [
  {
   "cell_type": "code",
   "execution_count": 1,
   "metadata": {},
   "outputs": [],
   "source": [
    "from jina import Document, Flow\n",
    "from jina.types.document.generators import from_files\n",
    "import numpy as np"
   ]
  },
  {
   "cell_type": "code",
   "execution_count": 2,
   "metadata": {},
   "outputs": [],
   "source": [
    "flow = (Flow()\n",
    "        .add(uses=\"jinahub+docker://ImageTorchEncoder\")\n",
    "        .add(uses=\"jinahub+docker://SimpleIndexer\"))"
   ]
  },
  {
   "cell_type": "code",
   "execution_count": 3,
   "metadata": {},
   "outputs": [
    {
     "data": {
      "application/vnd.jupyter.widget-view+json": {
       "model_id": "99310dd45f154ae2825ca05782b08bbd",
       "version_major": 2,
       "version_minor": 0
      },
      "text/plain": [
       "Output()"
      ]
     },
     "metadata": {},
     "output_type": "display_data"
    },
    {
     "data": {
      "text/html": [
       "<pre style=\"white-space:pre;overflow-x:auto;line-height:normal;font-family:Menlo,'DejaVu Sans Mono',consolas,'Courier New',monospace\"></pre>\n"
      ],
      "text/plain": []
     },
     "metadata": {},
     "output_type": "display_data"
    },
    {
     "data": {
      "application/vnd.jupyter.widget-view+json": {
       "model_id": "a18003c00dc34fc4b190b6afe5364bd7",
       "version_major": 2,
       "version_minor": 0
      },
      "text/plain": [
       "Output()"
      ]
     },
     "metadata": {},
     "output_type": "display_data"
    },
    {
     "data": {
      "text/html": [
       "<pre style=\"white-space:pre;overflow-x:auto;line-height:normal;font-family:Menlo,'DejaVu Sans Mono',consolas,'Courier New',monospace\"></pre>\n"
      ],
      "text/plain": []
     },
     "metadata": {},
     "output_type": "display_data"
    },
    {
     "name": "stdout",
     "output_type": "stream",
     "text": [
      "           Flow@816[I]:\u001b[32m🎉 Flow is ready to use!\u001b[0m\n",
      "\t🔗 Protocol: \t\t\u001b[1mGRPC\u001b[0m\n",
      "\t🏠 Local access:\t\u001b[4m\u001b[36m127.0.0.1:64206\u001b[0m\n",
      "\t🔒 Private network:\t\u001b[4m\u001b[36m192.168.1.11:64206\u001b[0m\u001b[0m\n"
     ]
    }
   ],
   "source": [
    "\n",
    "with flow:\n",
    "    images = []\n",
    "    for doc in from_files('fashion_images/*.png'):\n",
    "        doc.convert_image_uri_to_blob()\n",
    "        doc.blob = doc.blob.astype(np.uint8)\n",
    "        images.append(doc)\n",
    "    flow.index(images)\n",
    "\n",
    "    query = Document(uri='t-shirt.png')\n",
    "    query.convert_image_uri_to_blob()\n",
    "    query.blob = doc.blob.astype(np.uint8)\n",
    "    flow.search(query)"
   ]
  }
 ],
 "metadata": {
  "interpreter": {
   "hash": "23226dcb379d0ed0866266b24bdca6ba08c94e9c5b850a146778e390a9c8ac73"
  },
  "kernelspec": {
   "display_name": "Python 3.9.7 64-bit",
   "name": "python3"
  },
  "language_info": {
   "codemirror_mode": {
    "name": "ipython",
    "version": 3
   },
   "file_extension": ".py",
   "mimetype": "text/x-python",
   "name": "python",
   "nbconvert_exporter": "python",
   "pygments_lexer": "ipython3",
   "version": "3.9.7"
  },
  "orig_nbformat": 4
 },
 "nbformat": 4,
 "nbformat_minor": 2
}
